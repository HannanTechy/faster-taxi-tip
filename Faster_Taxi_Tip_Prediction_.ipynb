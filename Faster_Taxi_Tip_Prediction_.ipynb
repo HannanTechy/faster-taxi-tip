{
  "nbformat": 4,
  "nbformat_minor": 0,
  "metadata": {
    "colab": {
      "provenance": [],
      "authorship_tag": "ABX9TyOeiVDP1RF9ZBSOh8r9k889",
      "include_colab_link": true
    },
    "kernelspec": {
      "name": "python3",
      "display_name": "Python 3"
    },
    "language_info": {
      "name": "python"
    }
  },
  "cells": [
    {
      "cell_type": "markdown",
      "metadata": {
        "id": "view-in-github",
        "colab_type": "text"
      },
      "source": [
        "<a href=\"https://colab.research.google.com/github/HannanTechy/faster-taxi-tip/blob/main/Faster_Taxi_Tip_Prediction_.ipynb\" target=\"_parent\"><img src=\"https://colab.research.google.com/assets/colab-badge.svg\" alt=\"Open In Colab\"/></a>"
      ]
    },
    {
      "cell_type": "code",
      "execution_count": 6,
      "metadata": {
        "colab": {
          "base_uri": "https://localhost:8080/"
        },
        "id": "sGOWd-6bL9my",
        "outputId": "6c5270eb-fd96-4aae-bbde-07223d997282"
      },
      "outputs": [
        {
          "output_type": "stream",
          "name": "stdout",
          "text": [
            "Collecting snapml\n",
            "  Downloading snapml-1.14.0-cp310-cp310-manylinux2014_x86_64.whl (7.4 MB)\n",
            "\u001b[2K     \u001b[90m━━━━━━━━━━━━━━━━━━━━━━━━━━━━━━━━━━━━━━━━\u001b[0m \u001b[32m7.4/7.4 MB\u001b[0m \u001b[31m4.1 MB/s\u001b[0m eta \u001b[36m0:00:00\u001b[0m\n",
            "\u001b[?25hRequirement already satisfied: scikit-learn in /usr/local/lib/python3.10/dist-packages (from snapml) (1.2.2)\n",
            "Requirement already satisfied: scipy in /usr/local/lib/python3.10/dist-packages (from snapml) (1.10.1)\n",
            "Requirement already satisfied: numpy>=1.21.3 in /usr/local/lib/python3.10/dist-packages (from snapml) (1.22.4)\n",
            "Requirement already satisfied: joblib>=1.1.1 in /usr/local/lib/python3.10/dist-packages (from scikit-learn->snapml) (1.2.0)\n",
            "Requirement already satisfied: threadpoolctl>=2.0.0 in /usr/local/lib/python3.10/dist-packages (from scikit-learn->snapml) (3.1.0)\n",
            "Installing collected packages: snapml\n",
            "Successfully installed snapml-1.14.0\n"
          ]
        }
      ],
      "source": [
        "# Snap ML is available on PyPI. To install it simply run the pip command below.\n",
        "!pip install snapml"
      ]
    },
    {
      "cell_type": "code",
      "source": [
        "# Import the libraries we need to use in this lab\n",
        "from __future__ import print_function\n",
        "import numpy as np\n",
        "import pandas as pd\n",
        "import matplotlib.pyplot as plt\n",
        "%matplotlib inline\n",
        "from sklearn.model_selection import train_test_split\n",
        "from sklearn.preprocessing import normalize, StandardScaler, MinMaxScaler\n",
        "from sklearn.utils.class_weight import compute_sample_weight\n",
        "from sklearn.metrics import mean_squared_error\n",
        "import time\n",
        "import warnings\n",
        "import gc, sys\n",
        "warnings.filterwarnings('ignore')"
      ],
      "metadata": {
        "id": "VUmIVYVAMDJR"
      },
      "execution_count": 7,
      "outputs": []
    },
    {
      "cell_type": "code",
      "source": [
        "# download June 2020 TLC Yellow Taxi Trip records\n",
        "# !wget -nc https://s3.amazonaws.com/nyc-tlc/trip+data/yellow_tripdata_2019-06.csv\n",
        "!wget https://cf-courses-data.s3.us.cloud-object-storage.appdomain.cloud/IBMDeveloperSkillsNetwork-ML0101EN-SkillsNetwork/labs/Module%203/data/yellow_tripdata_2019-06.csv"
      ],
      "metadata": {
        "colab": {
          "base_uri": "https://localhost:8080/"
        },
        "id": "QEPGszVqeo8t",
        "outputId": "38e08594-c73b-4b15-ee63-4785ace2e4b9"
      },
      "execution_count": 8,
      "outputs": [
        {
          "output_type": "stream",
          "name": "stdout",
          "text": [
            "--2023-07-08 07:52:34--  https://cf-courses-data.s3.us.cloud-object-storage.appdomain.cloud/IBMDeveloperSkillsNetwork-ML0101EN-SkillsNetwork/labs/Module%203/data/yellow_tripdata_2019-06.csv\n",
            "Resolving cf-courses-data.s3.us.cloud-object-storage.appdomain.cloud (cf-courses-data.s3.us.cloud-object-storage.appdomain.cloud)... 169.45.118.108\n",
            "Connecting to cf-courses-data.s3.us.cloud-object-storage.appdomain.cloud (cf-courses-data.s3.us.cloud-object-storage.appdomain.cloud)|169.45.118.108|:443... connected.\n",
            "HTTP request sent, awaiting response... 200 OK\n",
            "Length: 364904448 (348M) [text/csv]\n",
            "Saving to: ‘yellow_tripdata_2019-06.csv.1’\n",
            "\n",
            "yellow_tripdata_201 100%[===================>] 348.00M  13.1MB/s    in 21s     \n",
            "\n",
            "2023-07-08 07:52:56 (16.7 MB/s) - ‘yellow_tripdata_2019-06.csv.1’ saved [364904448/364904448]\n",
            "\n"
          ]
        }
      ]
    },
    {
      "cell_type": "code",
      "source": [
        "#from google.colab import files\n",
        "\n",
        "#uploaded = files.upload()\n"
      ],
      "metadata": {
        "colab": {
          "base_uri": "https://localhost:8080/",
          "height": 73
        },
        "id": "B8Cbtgm1Na0M",
        "outputId": "186f3b8d-7e15-4767-c5ab-6a35c134e102"
      },
      "execution_count": 5,
      "outputs": [
        {
          "output_type": "display_data",
          "data": {
            "text/plain": [
              "<IPython.core.display.HTML object>"
            ],
            "text/html": [
              "\n",
              "     <input type=\"file\" id=\"files-a7063f42-f7f4-43d0-b3ff-b59cdc7cca32\" name=\"files[]\" multiple disabled\n",
              "        style=\"border:none\" />\n",
              "     <output id=\"result-a7063f42-f7f4-43d0-b3ff-b59cdc7cca32\">\n",
              "      Upload widget is only available when the cell has been executed in the\n",
              "      current browser session. Please rerun this cell to enable.\n",
              "      </output>\n",
              "      <script>// Copyright 2017 Google LLC\n",
              "//\n",
              "// Licensed under the Apache License, Version 2.0 (the \"License\");\n",
              "// you may not use this file except in compliance with the License.\n",
              "// You may obtain a copy of the License at\n",
              "//\n",
              "//      http://www.apache.org/licenses/LICENSE-2.0\n",
              "//\n",
              "// Unless required by applicable law or agreed to in writing, software\n",
              "// distributed under the License is distributed on an \"AS IS\" BASIS,\n",
              "// WITHOUT WARRANTIES OR CONDITIONS OF ANY KIND, either express or implied.\n",
              "// See the License for the specific language governing permissions and\n",
              "// limitations under the License.\n",
              "\n",
              "/**\n",
              " * @fileoverview Helpers for google.colab Python module.\n",
              " */\n",
              "(function(scope) {\n",
              "function span(text, styleAttributes = {}) {\n",
              "  const element = document.createElement('span');\n",
              "  element.textContent = text;\n",
              "  for (const key of Object.keys(styleAttributes)) {\n",
              "    element.style[key] = styleAttributes[key];\n",
              "  }\n",
              "  return element;\n",
              "}\n",
              "\n",
              "// Max number of bytes which will be uploaded at a time.\n",
              "const MAX_PAYLOAD_SIZE = 100 * 1024;\n",
              "\n",
              "function _uploadFiles(inputId, outputId) {\n",
              "  const steps = uploadFilesStep(inputId, outputId);\n",
              "  const outputElement = document.getElementById(outputId);\n",
              "  // Cache steps on the outputElement to make it available for the next call\n",
              "  // to uploadFilesContinue from Python.\n",
              "  outputElement.steps = steps;\n",
              "\n",
              "  return _uploadFilesContinue(outputId);\n",
              "}\n",
              "\n",
              "// This is roughly an async generator (not supported in the browser yet),\n",
              "// where there are multiple asynchronous steps and the Python side is going\n",
              "// to poll for completion of each step.\n",
              "// This uses a Promise to block the python side on completion of each step,\n",
              "// then passes the result of the previous step as the input to the next step.\n",
              "function _uploadFilesContinue(outputId) {\n",
              "  const outputElement = document.getElementById(outputId);\n",
              "  const steps = outputElement.steps;\n",
              "\n",
              "  const next = steps.next(outputElement.lastPromiseValue);\n",
              "  return Promise.resolve(next.value.promise).then((value) => {\n",
              "    // Cache the last promise value to make it available to the next\n",
              "    // step of the generator.\n",
              "    outputElement.lastPromiseValue = value;\n",
              "    return next.value.response;\n",
              "  });\n",
              "}\n",
              "\n",
              "/**\n",
              " * Generator function which is called between each async step of the upload\n",
              " * process.\n",
              " * @param {string} inputId Element ID of the input file picker element.\n",
              " * @param {string} outputId Element ID of the output display.\n",
              " * @return {!Iterable<!Object>} Iterable of next steps.\n",
              " */\n",
              "function* uploadFilesStep(inputId, outputId) {\n",
              "  const inputElement = document.getElementById(inputId);\n",
              "  inputElement.disabled = false;\n",
              "\n",
              "  const outputElement = document.getElementById(outputId);\n",
              "  outputElement.innerHTML = '';\n",
              "\n",
              "  const pickedPromise = new Promise((resolve) => {\n",
              "    inputElement.addEventListener('change', (e) => {\n",
              "      resolve(e.target.files);\n",
              "    });\n",
              "  });\n",
              "\n",
              "  const cancel = document.createElement('button');\n",
              "  inputElement.parentElement.appendChild(cancel);\n",
              "  cancel.textContent = 'Cancel upload';\n",
              "  const cancelPromise = new Promise((resolve) => {\n",
              "    cancel.onclick = () => {\n",
              "      resolve(null);\n",
              "    };\n",
              "  });\n",
              "\n",
              "  // Wait for the user to pick the files.\n",
              "  const files = yield {\n",
              "    promise: Promise.race([pickedPromise, cancelPromise]),\n",
              "    response: {\n",
              "      action: 'starting',\n",
              "    }\n",
              "  };\n",
              "\n",
              "  cancel.remove();\n",
              "\n",
              "  // Disable the input element since further picks are not allowed.\n",
              "  inputElement.disabled = true;\n",
              "\n",
              "  if (!files) {\n",
              "    return {\n",
              "      response: {\n",
              "        action: 'complete',\n",
              "      }\n",
              "    };\n",
              "  }\n",
              "\n",
              "  for (const file of files) {\n",
              "    const li = document.createElement('li');\n",
              "    li.append(span(file.name, {fontWeight: 'bold'}));\n",
              "    li.append(span(\n",
              "        `(${file.type || 'n/a'}) - ${file.size} bytes, ` +\n",
              "        `last modified: ${\n",
              "            file.lastModifiedDate ? file.lastModifiedDate.toLocaleDateString() :\n",
              "                                    'n/a'} - `));\n",
              "    const percent = span('0% done');\n",
              "    li.appendChild(percent);\n",
              "\n",
              "    outputElement.appendChild(li);\n",
              "\n",
              "    const fileDataPromise = new Promise((resolve) => {\n",
              "      const reader = new FileReader();\n",
              "      reader.onload = (e) => {\n",
              "        resolve(e.target.result);\n",
              "      };\n",
              "      reader.readAsArrayBuffer(file);\n",
              "    });\n",
              "    // Wait for the data to be ready.\n",
              "    let fileData = yield {\n",
              "      promise: fileDataPromise,\n",
              "      response: {\n",
              "        action: 'continue',\n",
              "      }\n",
              "    };\n",
              "\n",
              "    // Use a chunked sending to avoid message size limits. See b/62115660.\n",
              "    let position = 0;\n",
              "    do {\n",
              "      const length = Math.min(fileData.byteLength - position, MAX_PAYLOAD_SIZE);\n",
              "      const chunk = new Uint8Array(fileData, position, length);\n",
              "      position += length;\n",
              "\n",
              "      const base64 = btoa(String.fromCharCode.apply(null, chunk));\n",
              "      yield {\n",
              "        response: {\n",
              "          action: 'append',\n",
              "          file: file.name,\n",
              "          data: base64,\n",
              "        },\n",
              "      };\n",
              "\n",
              "      let percentDone = fileData.byteLength === 0 ?\n",
              "          100 :\n",
              "          Math.round((position / fileData.byteLength) * 100);\n",
              "      percent.textContent = `${percentDone}% done`;\n",
              "\n",
              "    } while (position < fileData.byteLength);\n",
              "  }\n",
              "\n",
              "  // All done.\n",
              "  yield {\n",
              "    response: {\n",
              "      action: 'complete',\n",
              "    }\n",
              "  };\n",
              "}\n",
              "\n",
              "scope.google = scope.google || {};\n",
              "scope.google.colab = scope.google.colab || {};\n",
              "scope.google.colab._files = {\n",
              "  _uploadFiles,\n",
              "  _uploadFilesContinue,\n",
              "};\n",
              "})(self);\n",
              "</script> "
            ]
          },
          "metadata": {}
        },
        {
          "output_type": "stream",
          "name": "stdout",
          "text": [
            "Saving yellow_tripdata_2019-06.csv to yellow_tripdata_2019-06.csv\n"
          ]
        }
      ]
    },
    {
      "cell_type": "code",
      "source": [
        "# read the input data\n",
        "raw_data = pd.read_csv('yellow_tripdata_2019-06.csv')\n",
        "print(\"There are \" + str(len(raw_data)) + \" observations in the dataset.\")\n",
        "print(\"There are \" + str(len(raw_data.columns)) + \" variables in the dataset.\")\n",
        "\n",
        "# display first rows in the dataset\n",
        "raw_data.head()"
      ],
      "metadata": {
        "colab": {
          "base_uri": "https://localhost:8080/",
          "height": 305
        },
        "id": "P7I79BmeMLyC",
        "outputId": "f359ab61-e548-4047-a43e-ce5699aa23ab"
      },
      "execution_count": 9,
      "outputs": [
        {
          "output_type": "stream",
          "name": "stdout",
          "text": [
            "There are 3936004 observations in the dataset.\n",
            "There are 18 variables in the dataset.\n"
          ]
        },
        {
          "output_type": "execute_result",
          "data": {
            "text/plain": [
              "   VendorID tpep_pickup_datetime tpep_dropoff_datetime  passenger_count  \\\n",
              "0         1  2019-06-01 00:55:13   2019-06-01 00:56:17              1.0   \n",
              "1         1  2019-06-01 00:06:31   2019-06-01 00:06:52              1.0   \n",
              "2         1  2019-06-01 00:17:05   2019-06-01 00:36:38              1.0   \n",
              "3         1  2019-06-01 00:59:02   2019-06-01 00:59:12              0.0   \n",
              "4         1  2019-06-01 00:03:25   2019-06-01 00:15:42              1.0   \n",
              "\n",
              "   trip_distance  RatecodeID store_and_fwd_flag  PULocationID  DOLocationID  \\\n",
              "0            0.0         1.0                  N         145.0         145.0   \n",
              "1            0.0         1.0                  N         262.0         263.0   \n",
              "2            4.4         1.0                  N          74.0           7.0   \n",
              "3            0.8         1.0                  N         145.0         145.0   \n",
              "4            1.7         1.0                  N         113.0         148.0   \n",
              "\n",
              "   payment_type  fare_amount  extra  mta_tax  tip_amount  tolls_amount  \\\n",
              "0           2.0          3.0    0.5      0.5        0.00           0.0   \n",
              "1           2.0          2.5    3.0      0.5        0.00           0.0   \n",
              "2           2.0         17.5    0.5      0.5        0.00           0.0   \n",
              "3           2.0          2.5    1.0      0.5        0.00           0.0   \n",
              "4           1.0          9.5    3.0      0.5        2.65           0.0   \n",
              "\n",
              "   improvement_surcharge  total_amount  congestion_surcharge  \n",
              "0                    0.3          4.30                   0.0  \n",
              "1                    0.3          6.30                   2.5  \n",
              "2                    0.3         18.80                   0.0  \n",
              "3                    0.3          4.30                   0.0  \n",
              "4                    0.3         15.95                   2.5  "
            ],
            "text/html": [
              "\n",
              "  <div id=\"df-cf11c5a2-7369-44ed-8351-be8d8c334f1f\">\n",
              "    <div class=\"colab-df-container\">\n",
              "      <div>\n",
              "<style scoped>\n",
              "    .dataframe tbody tr th:only-of-type {\n",
              "        vertical-align: middle;\n",
              "    }\n",
              "\n",
              "    .dataframe tbody tr th {\n",
              "        vertical-align: top;\n",
              "    }\n",
              "\n",
              "    .dataframe thead th {\n",
              "        text-align: right;\n",
              "    }\n",
              "</style>\n",
              "<table border=\"1\" class=\"dataframe\">\n",
              "  <thead>\n",
              "    <tr style=\"text-align: right;\">\n",
              "      <th></th>\n",
              "      <th>VendorID</th>\n",
              "      <th>tpep_pickup_datetime</th>\n",
              "      <th>tpep_dropoff_datetime</th>\n",
              "      <th>passenger_count</th>\n",
              "      <th>trip_distance</th>\n",
              "      <th>RatecodeID</th>\n",
              "      <th>store_and_fwd_flag</th>\n",
              "      <th>PULocationID</th>\n",
              "      <th>DOLocationID</th>\n",
              "      <th>payment_type</th>\n",
              "      <th>fare_amount</th>\n",
              "      <th>extra</th>\n",
              "      <th>mta_tax</th>\n",
              "      <th>tip_amount</th>\n",
              "      <th>tolls_amount</th>\n",
              "      <th>improvement_surcharge</th>\n",
              "      <th>total_amount</th>\n",
              "      <th>congestion_surcharge</th>\n",
              "    </tr>\n",
              "  </thead>\n",
              "  <tbody>\n",
              "    <tr>\n",
              "      <th>0</th>\n",
              "      <td>1</td>\n",
              "      <td>2019-06-01 00:55:13</td>\n",
              "      <td>2019-06-01 00:56:17</td>\n",
              "      <td>1.0</td>\n",
              "      <td>0.0</td>\n",
              "      <td>1.0</td>\n",
              "      <td>N</td>\n",
              "      <td>145.0</td>\n",
              "      <td>145.0</td>\n",
              "      <td>2.0</td>\n",
              "      <td>3.0</td>\n",
              "      <td>0.5</td>\n",
              "      <td>0.5</td>\n",
              "      <td>0.00</td>\n",
              "      <td>0.0</td>\n",
              "      <td>0.3</td>\n",
              "      <td>4.30</td>\n",
              "      <td>0.0</td>\n",
              "    </tr>\n",
              "    <tr>\n",
              "      <th>1</th>\n",
              "      <td>1</td>\n",
              "      <td>2019-06-01 00:06:31</td>\n",
              "      <td>2019-06-01 00:06:52</td>\n",
              "      <td>1.0</td>\n",
              "      <td>0.0</td>\n",
              "      <td>1.0</td>\n",
              "      <td>N</td>\n",
              "      <td>262.0</td>\n",
              "      <td>263.0</td>\n",
              "      <td>2.0</td>\n",
              "      <td>2.5</td>\n",
              "      <td>3.0</td>\n",
              "      <td>0.5</td>\n",
              "      <td>0.00</td>\n",
              "      <td>0.0</td>\n",
              "      <td>0.3</td>\n",
              "      <td>6.30</td>\n",
              "      <td>2.5</td>\n",
              "    </tr>\n",
              "    <tr>\n",
              "      <th>2</th>\n",
              "      <td>1</td>\n",
              "      <td>2019-06-01 00:17:05</td>\n",
              "      <td>2019-06-01 00:36:38</td>\n",
              "      <td>1.0</td>\n",
              "      <td>4.4</td>\n",
              "      <td>1.0</td>\n",
              "      <td>N</td>\n",
              "      <td>74.0</td>\n",
              "      <td>7.0</td>\n",
              "      <td>2.0</td>\n",
              "      <td>17.5</td>\n",
              "      <td>0.5</td>\n",
              "      <td>0.5</td>\n",
              "      <td>0.00</td>\n",
              "      <td>0.0</td>\n",
              "      <td>0.3</td>\n",
              "      <td>18.80</td>\n",
              "      <td>0.0</td>\n",
              "    </tr>\n",
              "    <tr>\n",
              "      <th>3</th>\n",
              "      <td>1</td>\n",
              "      <td>2019-06-01 00:59:02</td>\n",
              "      <td>2019-06-01 00:59:12</td>\n",
              "      <td>0.0</td>\n",
              "      <td>0.8</td>\n",
              "      <td>1.0</td>\n",
              "      <td>N</td>\n",
              "      <td>145.0</td>\n",
              "      <td>145.0</td>\n",
              "      <td>2.0</td>\n",
              "      <td>2.5</td>\n",
              "      <td>1.0</td>\n",
              "      <td>0.5</td>\n",
              "      <td>0.00</td>\n",
              "      <td>0.0</td>\n",
              "      <td>0.3</td>\n",
              "      <td>4.30</td>\n",
              "      <td>0.0</td>\n",
              "    </tr>\n",
              "    <tr>\n",
              "      <th>4</th>\n",
              "      <td>1</td>\n",
              "      <td>2019-06-01 00:03:25</td>\n",
              "      <td>2019-06-01 00:15:42</td>\n",
              "      <td>1.0</td>\n",
              "      <td>1.7</td>\n",
              "      <td>1.0</td>\n",
              "      <td>N</td>\n",
              "      <td>113.0</td>\n",
              "      <td>148.0</td>\n",
              "      <td>1.0</td>\n",
              "      <td>9.5</td>\n",
              "      <td>3.0</td>\n",
              "      <td>0.5</td>\n",
              "      <td>2.65</td>\n",
              "      <td>0.0</td>\n",
              "      <td>0.3</td>\n",
              "      <td>15.95</td>\n",
              "      <td>2.5</td>\n",
              "    </tr>\n",
              "  </tbody>\n",
              "</table>\n",
              "</div>\n",
              "      <button class=\"colab-df-convert\" onclick=\"convertToInteractive('df-cf11c5a2-7369-44ed-8351-be8d8c334f1f')\"\n",
              "              title=\"Convert this dataframe to an interactive table.\"\n",
              "              style=\"display:none;\">\n",
              "        \n",
              "  <svg xmlns=\"http://www.w3.org/2000/svg\" height=\"24px\"viewBox=\"0 0 24 24\"\n",
              "       width=\"24px\">\n",
              "    <path d=\"M0 0h24v24H0V0z\" fill=\"none\"/>\n",
              "    <path d=\"M18.56 5.44l.94 2.06.94-2.06 2.06-.94-2.06-.94-.94-2.06-.94 2.06-2.06.94zm-11 1L8.5 8.5l.94-2.06 2.06-.94-2.06-.94L8.5 2.5l-.94 2.06-2.06.94zm10 10l.94 2.06.94-2.06 2.06-.94-2.06-.94-.94-2.06-.94 2.06-2.06.94z\"/><path d=\"M17.41 7.96l-1.37-1.37c-.4-.4-.92-.59-1.43-.59-.52 0-1.04.2-1.43.59L10.3 9.45l-7.72 7.72c-.78.78-.78 2.05 0 2.83L4 21.41c.39.39.9.59 1.41.59.51 0 1.02-.2 1.41-.59l7.78-7.78 2.81-2.81c.8-.78.8-2.07 0-2.86zM5.41 20L4 18.59l7.72-7.72 1.47 1.35L5.41 20z\"/>\n",
              "  </svg>\n",
              "      </button>\n",
              "      \n",
              "  <style>\n",
              "    .colab-df-container {\n",
              "      display:flex;\n",
              "      flex-wrap:wrap;\n",
              "      gap: 12px;\n",
              "    }\n",
              "\n",
              "    .colab-df-convert {\n",
              "      background-color: #E8F0FE;\n",
              "      border: none;\n",
              "      border-radius: 50%;\n",
              "      cursor: pointer;\n",
              "      display: none;\n",
              "      fill: #1967D2;\n",
              "      height: 32px;\n",
              "      padding: 0 0 0 0;\n",
              "      width: 32px;\n",
              "    }\n",
              "\n",
              "    .colab-df-convert:hover {\n",
              "      background-color: #E2EBFA;\n",
              "      box-shadow: 0px 1px 2px rgba(60, 64, 67, 0.3), 0px 1px 3px 1px rgba(60, 64, 67, 0.15);\n",
              "      fill: #174EA6;\n",
              "    }\n",
              "\n",
              "    [theme=dark] .colab-df-convert {\n",
              "      background-color: #3B4455;\n",
              "      fill: #D2E3FC;\n",
              "    }\n",
              "\n",
              "    [theme=dark] .colab-df-convert:hover {\n",
              "      background-color: #434B5C;\n",
              "      box-shadow: 0px 1px 3px 1px rgba(0, 0, 0, 0.15);\n",
              "      filter: drop-shadow(0px 1px 2px rgba(0, 0, 0, 0.3));\n",
              "      fill: #FFFFFF;\n",
              "    }\n",
              "  </style>\n",
              "\n",
              "      <script>\n",
              "        const buttonEl =\n",
              "          document.querySelector('#df-cf11c5a2-7369-44ed-8351-be8d8c334f1f button.colab-df-convert');\n",
              "        buttonEl.style.display =\n",
              "          google.colab.kernel.accessAllowed ? 'block' : 'none';\n",
              "\n",
              "        async function convertToInteractive(key) {\n",
              "          const element = document.querySelector('#df-cf11c5a2-7369-44ed-8351-be8d8c334f1f');\n",
              "          const dataTable =\n",
              "            await google.colab.kernel.invokeFunction('convertToInteractive',\n",
              "                                                     [key], {});\n",
              "          if (!dataTable) return;\n",
              "\n",
              "          const docLinkHtml = 'Like what you see? Visit the ' +\n",
              "            '<a target=\"_blank\" href=https://colab.research.google.com/notebooks/data_table.ipynb>data table notebook</a>'\n",
              "            + ' to learn more about interactive tables.';\n",
              "          element.innerHTML = '';\n",
              "          dataTable['output_type'] = 'display_data';\n",
              "          await google.colab.output.renderOutput(dataTable, element);\n",
              "          const docLink = document.createElement('div');\n",
              "          docLink.innerHTML = docLinkHtml;\n",
              "          element.appendChild(docLink);\n",
              "        }\n",
              "      </script>\n",
              "    </div>\n",
              "  </div>\n",
              "  "
            ]
          },
          "metadata": {},
          "execution_count": 9
        }
      ]
    },
    {
      "cell_type": "code",
      "source": [
        "#Reducing the data size to 100000 records\n",
        "raw_data=raw_data.head(100000)"
      ],
      "metadata": {
        "id": "3O6-4Ol3MQfb"
      },
      "execution_count": 10,
      "outputs": []
    },
    {
      "cell_type": "code",
      "source": [
        "# some trips report 0 tip. it is assumed that these tips were paid in cash.\n",
        "# for this study we drop all these rows\n",
        "raw_data = raw_data[raw_data['tip_amount'] > 0]\n",
        "\n",
        "# we also remove some outliers, namely those where the tip was larger than the fare cost\n",
        "raw_data = raw_data[(raw_data['tip_amount'] <= raw_data['fare_amount'])]\n",
        "\n",
        "# we remove trips with very large fare cost\n",
        "raw_data = raw_data[((raw_data['fare_amount'] >=2) & (raw_data['fare_amount'] < 200))]\n",
        "\n",
        "# we drop variables that include the target variable in it, namely the total_amount\n",
        "clean_data = raw_data.drop(['total_amount'], axis=1)\n",
        "\n",
        "# release memory occupied by raw_data as we do not need it anymore\n",
        "# we are dealing with a large dataset, thus we need to make sure we do not run out of memory\n",
        "del raw_data\n",
        "gc.collect()\n",
        "\n",
        "# print the number of trips left in the dataset\n",
        "print(\"There are \" + str(len(clean_data)) + \" observations in the dataset.\")\n",
        "print(\"There are \" + str(len(clean_data.columns)) + \" variables in the dataset.\")\n",
        "\n",
        "plt.hist(clean_data.tip_amount.values, 16, histtype='bar', facecolor='g')\n",
        "plt.show()\n",
        "\n",
        "print(\"Minimum amount value is \", np.min(clean_data.tip_amount.values))\n",
        "print(\"Maximum amount value is \", np.max(clean_data.tip_amount.values))\n",
        "print(\"90% of the trips have a tip amount less or equal than \", np.percentile(clean_data.tip_amount.values, 90))"
      ],
      "metadata": {
        "colab": {
          "base_uri": "https://localhost:8080/",
          "height": 517
        },
        "id": "jYVRe7FHNvuv",
        "outputId": "83b3826a-a487-46b6-c92e-c4f33ad011f4"
      },
      "execution_count": 11,
      "outputs": [
        {
          "output_type": "stream",
          "name": "stdout",
          "text": [
            "There are 65349 observations in the dataset.\n",
            "There are 17 variables in the dataset.\n"
          ]
        },
        {
          "output_type": "display_data",
          "data": {
            "text/plain": [
              "<Figure size 640x480 with 1 Axes>"
            ],
            "image/png": "[encoded data removed]"
          },
          "metadata": {}
        },
        {
          "output_type": "stream",
          "name": "stdout",
          "text": [
            "Minimum amount value is  0.01\n",
            "Maximum amount value is  53.0\n",
            "90% of the trips have a tip amount less or equal than  5.15\n"
          ]
        }
      ]
    },
    {
      "cell_type": "code",
      "source": [
        "clean_data['tpep_dropoff_datetime'] = pd.to_datetime(clean_data['tpep_dropoff_datetime'])\n",
        "clean_data['tpep_pickup_datetime'] = pd.to_datetime(clean_data['tpep_pickup_datetime'])\n",
        "\n",
        "# extract pickup and dropoff hour\n",
        "clean_data['pickup_hour'] = clean_data['tpep_pickup_datetime'].dt.hour\n",
        "clean_data['dropoff_hour'] = clean_data['tpep_dropoff_datetime'].dt.hour\n",
        "\n",
        "# extract pickup and dropoff day of week\n",
        "clean_data['pickup_day'] = clean_data['tpep_pickup_datetime'].dt.weekday\n",
        "clean_data['dropoff_day'] = clean_data['tpep_dropoff_datetime'].dt.weekday\n",
        "\n",
        "# compute trip time in minutes\n",
        "clean_data['trip_time'] = (clean_data['tpep_dropoff_datetime'] - clean_data['tpep_pickup_datetime']).astype('timedelta64[m]')\n",
        "\n",
        "# ideally use the full dataset for this exercise\n",
        "# however if you run into out of memory issues due to the data size, reduce it\n",
        "# for instance, in this example we use only the first 1M samples\n",
        "first_n_rows = 1000000\n",
        "clean_data = clean_data.head(first_n_rows)"
      ],
      "metadata": {
        "id": "_P9vKPhqN5xg"
      },
      "execution_count": 12,
      "outputs": []
    },
    {
      "cell_type": "code",
      "source": [
        "# drop the pickup and dropoff datetimes\n",
        "clean_data = clean_data.drop(['tpep_pickup_datetime', 'tpep_dropoff_datetime'], axis=1)\n",
        "\n",
        "# some features are categorical, we need to encode them\n",
        "# to encode them we use one-hot encoding from the Pandas package\n",
        "get_dummy_col = [\"VendorID\",\"RatecodeID\",\"store_and_fwd_flag\",\"PULocationID\", \"DOLocationID\",\"payment_type\", \"pickup_hour\", \"dropoff_hour\", \"pickup_day\", \"dropoff_day\"]\n",
        "proc_data = pd.get_dummies(clean_data, columns = get_dummy_col)\n",
        "\n",
        "# release memory occupied by clean_data as we do not need it anymore\n",
        "# we are dealing with a large dataset, thus we need to make sure we do not run out of memory\n",
        "del clean_data\n",
        "gc.collect()"
      ],
      "metadata": {
        "colab": {
          "base_uri": "https://localhost:8080/"
        },
        "id": "-0rufPrlbybf",
        "outputId": "11b21e9d-ae62-48bd-fd9d-48f65fa163e6"
      },
      "execution_count": 13,
      "outputs": [
        {
          "output_type": "execute_result",
          "data": {
            "text/plain": [
              "4062"
            ]
          },
          "metadata": {},
          "execution_count": 13
        }
      ]
    },
    {
      "cell_type": "code",
      "source": [
        "# extract the labels from the dataframe\n",
        "y = proc_data[['tip_amount']].values.astype('float32')\n",
        "\n",
        "# drop the target variable from the feature matrix\n",
        "proc_data = proc_data.drop(['tip_amount'], axis=1)\n",
        "\n",
        "# get the feature matrix used for training\n",
        "X = proc_data.values\n",
        "\n",
        "# normalize the feature matrix\n",
        "X = normalize(X, axis=1, norm='l1', copy=False)\n",
        "\n",
        "# print the shape of the features matrix and the labels vector\n",
        "print('X.shape=', X.shape, 'y.shape=', y.shape)"
      ],
      "metadata": {
        "colab": {
          "base_uri": "https://localhost:8080/"
        },
        "id": "93n9eyhJdEo3",
        "outputId": "8a6e5c7a-7df8-42bc-c87c-3e1c76a8abcd"
      },
      "execution_count": 14,
      "outputs": [
        {
          "output_type": "stream",
          "name": "stdout",
          "text": [
            "X.shape= (65349, 460) y.shape= (65349, 1)\n"
          ]
        }
      ]
    },
    {
      "cell_type": "code",
      "source": [
        "X_train, X_test, y_train, y_test = train_test_split(X, y, test_size=0.3, random_state=42)\n",
        "print('X_train.shape=', X_train.shape, 'Y_train.shape=', y_train.shape)\n",
        "print('X_test.shape=', X_test.shape, 'Y_test.shape=', y_test.shape)"
      ],
      "metadata": {
        "colab": {
          "base_uri": "https://localhost:8080/"
        },
        "id": "0H7gAw4Dd-w8",
        "outputId": "5411bf1d-ef04-402d-f303-0281cbf7e00d"
      },
      "execution_count": 15,
      "outputs": [
        {
          "output_type": "stream",
          "name": "stdout",
          "text": [
            "X_train.shape= (45744, 460) Y_train.shape= (45744, 1)\n",
            "X_test.shape= (19605, 460) Y_test.shape= (19605, 1)\n"
          ]
        }
      ]
    },
    {
      "cell_type": "code",
      "source": [
        "# import the Decision Tree Regression Model from scikit-learn\n",
        "from sklearn.tree import DecisionTreeRegressor\n",
        "\n",
        "# for reproducible output across multiple function calls, set random_state to a given integer value\n",
        "sklearn_dt = DecisionTreeRegressor(max_depth=8, random_state=35)\n",
        "\n",
        "# train a Decision Tree Regressor using scikit-learn\n",
        "t0 = time.time()\n",
        "sklearn_dt.fit(X_train, y_train)\n",
        "sklearn_time = time.time()-t0\n",
        "print(\"[Scikit-Learn] Training time (s):  {0:.5f}\".format(sklearn_time))"
      ],
      "metadata": {
        "colab": {
          "base_uri": "https://localhost:8080/"
        },
        "id": "CAVNUHMJeA_W",
        "outputId": "a61b3569-03ec-42ad-a3cc-7122f5515952"
      },
      "execution_count": 16,
      "outputs": [
        {
          "output_type": "stream",
          "name": "stdout",
          "text": [
            "[Scikit-Learn] Training time (s):  5.01789\n"
          ]
        }
      ]
    },
    {
      "cell_type": "code",
      "source": [
        "# import the Decision Tree Regressor Model from Snap ML\n",
        "from snapml import DecisionTreeRegressor\n",
        "\n",
        "# in contrast to sklearn's Decision Tree, Snap ML offers multi-threaded CPU/GPU training\n",
        "# to use the GPU, one needs to set the use_gpu parameter to True\n",
        "# snapml_dt = DecisionTreeRegressor(max_depth=4, random_state=45, use_gpu=True)\n",
        "\n",
        "# to set the number of CPU threads used at training time, one needs to set the n_jobs parameter\n",
        "# for reproducible output across multiple function calls, set random_state to a given integer value\n",
        "snapml_dt = DecisionTreeRegressor(max_depth=8, random_state=45, n_jobs=4)\n",
        "\n",
        "# train a Decision Tree Regressor model using Snap ML\n",
        "t0 = time.time()\n",
        "snapml_dt.fit(X_train, y_train)\n",
        "snapml_time = time.time()-t0\n",
        "print(\"[Snap ML] Training time (s):  {0:.5f}\".format(snapml_time))"
      ],
      "metadata": {
        "colab": {
          "base_uri": "https://localhost:8080/"
        },
        "id": "lGAKfGRqeDY-",
        "outputId": "beec7286-57b8-4ba2-cf72-f6084893bf14"
      },
      "execution_count": 17,
      "outputs": [
        {
          "output_type": "stream",
          "name": "stdout",
          "text": [
            "[Snap ML] Training time (s):  2.03348\n"
          ]
        }
      ]
    },
    {
      "cell_type": "code",
      "source": [
        "\n",
        "# Snap ML vs Scikit-Learn training speedup\n",
        "training_speedup = sklearn_time/snapml_time\n",
        "print('[Decision Tree Regressor] Snap ML vs. Scikit-Learn speedup : {0:.2f}x '.format(training_speedup))\n",
        "\n",
        "# run inference using the sklearn model\n",
        "sklearn_pred = sklearn_dt.predict(X_test)\n",
        "\n",
        "# evaluate mean squared error on the test dataset\n",
        "sklearn_mse = mean_squared_error(y_test, sklearn_pred)\n",
        "print('[Scikit-Learn] MSE score : {0:.3f}'.format(sklearn_mse))\n",
        "\n",
        "# run inference using the Snap ML model\n",
        "snapml_pred = snapml_dt.predict(X_test)\n",
        "\n",
        "# evaluate mean squared error on the test dataset\n",
        "snapml_mse = mean_squared_error(y_test, snapml_pred)\n",
        "print('[Snap ML] MSE score : {0:.3f}'.format(snapml_mse))"
      ],
      "metadata": {
        "colab": {
          "base_uri": "https://localhost:8080/"
        },
        "id": "5ahGTh1YeF2w",
        "outputId": "3118372f-307c-4262-b94e-61fa8f87794b"
      },
      "execution_count": 18,
      "outputs": [
        {
          "output_type": "stream",
          "name": "stdout",
          "text": [
            "[Decision Tree Regressor] Snap ML vs. Scikit-Learn speedup : 2.47x \n",
            "[Scikit-Learn] MSE score : 1.615\n",
            "[Snap ML] MSE score : 1.690\n"
          ]
        }
      ]
    },
    {
      "cell_type": "code",
      "source": [],
      "metadata": {
        "id": "aqFb9RxSeHOw"
      },
      "execution_count": null,
      "outputs": []
    }
  ]
}